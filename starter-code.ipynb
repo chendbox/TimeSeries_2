{
 "cells": [
  {
   "cell_type": "markdown",
   "metadata": {},
   "source": [
    "<img src=\"http://imgur.com/1ZcRyrc.png\" style=\"float: left; margin: 20px; height: 55px\">\n",
    "\n",
    "# Linear Time Series Modeling\n",
    "\n",
    "_Author: Matt Brems, Matthew Garton, Charles Rice_\n",
    "\n",
    "---\n",
    "\n",
    "### Learning Objectives \n",
    "_By the end of the lesson, students should be able to:_\n",
    "- Instantiate and manipulate datetime objects\n",
    "- Define forecasting.\n",
    "- Define and identify trend and seasonality in time series data.\n",
    "- Define and calculate autocorrelation manually.\n",
    "- Generate and interpret a seasonal decomposition plot.\n",
    "- Generate and interpret an autocorrelation plot.\n",
    "- Generate and interpret a partial autocorrelation plot.\n",
    "- Properly fit, generate predictions from, and evaluate a linear time series model."
   ]
  },
  {
   "cell_type": "code",
   "execution_count": null,
   "metadata": {},
   "outputs": [],
   "source": [
    "import pandas as pd\n",
    "import numpy as np\n",
    "import matplotlib.pyplot as plt\n",
    "\n",
    "from sklearn.model_selection import train_test_split\n",
    "\n",
    "# This will allow us to avoid a FutureWarning when plotting.\n",
    "from pandas.plotting import register_matplotlib_converters\n",
    "register_matplotlib_converters()"
   ]
  },
  {
   "cell_type": "markdown",
   "metadata": {},
   "source": [
    "<a id=\"the-datetime-library\"></a>\n",
    "## The Datetime Library\n",
    "---\n",
    "\n",
    "Python's `datetime` library is great for dealing with time-related data, and Pandas has incorporated this library into its own datetime series and objects.\n",
    "\n",
    "In this lesson, we'll review these data types and learn a little more about each of them:\n",
    "\n",
    "- Datetime objects.\n",
    "- Datetime series.\n",
    "- Timestamps.\n",
    "- `timedelta()`.\n"
   ]
  },
  {
   "cell_type": "markdown",
   "metadata": {},
   "source": [
    "<a id=\"datetime-object\"></a>\n",
    "## Datetime Objects\n",
    "---\n",
    "\n",
    "Below, we read in the `datetime` library which we can use to create a `datetime` object by entering in the different components of the date as arguments. \n",
    "\n",
    "It should be noted that there are separate `date` and `time` modules _within_ `datetime`. We're going to skip over those and go straight to the big kahuna, but they follow similar syntax."
   ]
  },
  {
   "cell_type": "code",
   "execution_count": null,
   "metadata": {},
   "outputs": [],
   "source": [
    "from datetime import datetime"
   ]
  },
  {
   "cell_type": "code",
   "execution_count": null,
   "metadata": {},
   "outputs": [],
   "source": []
  },
  {
   "cell_type": "markdown",
   "metadata": {},
   "source": [
    "The pieces of the date are accessible via the objects attributes:"
   ]
  },
  {
   "cell_type": "code",
   "execution_count": null,
   "metadata": {},
   "outputs": [],
   "source": [
    "# A:\n"
   ]
  },
  {
   "cell_type": "markdown",
   "metadata": {},
   "source": [
    "## `strftime()` and `strptime()`\n",
    "​\n",
    "A `datetime` object has two string methods that can be of use: `strftime()` and `strptime()`.  \n",
    "\n",
    "`strftime()` (think string _from_ time) formats a datetime object into a string following a particular format."
   ]
  },
  {
   "cell_type": "code",
   "execution_count": null,
   "metadata": {},
   "outputs": [],
   "source": []
  },
  {
   "cell_type": "markdown",
   "metadata": {},
   "source": [
    "`strptime()` (think string _parsed to_ time) parses a string into a datetime object following a particular format."
   ]
  },
  {
   "cell_type": "code",
   "execution_count": null,
   "metadata": {},
   "outputs": [],
   "source": []
  },
  {
   "cell_type": "markdown",
   "metadata": {},
   "source": [
    "Formatting syntax follows the C implementation, and requires some playing to get right. Here is the [full list of formatting options](https://docs.python.org/3.6/library/datetime.html?highlight=strftime#strftime-and-strptime-behavior)."
   ]
  },
  {
   "cell_type": "markdown",
   "metadata": {},
   "source": [
    "<a id=\"timedelta\"></a>\n",
    "## `timedelta()`\n",
    "---\n",
    "\n",
    "Suppose we want to add time to a date or subtract time from it. Maybe we are using time as an index and want to get everything that happened a week before a specific observation.\n",
    "\n",
    "We can use a `timedelta` object to shift a datetime object. Here's an example:"
   ]
  },
  {
   "cell_type": "code",
   "execution_count": null,
   "metadata": {},
   "outputs": [],
   "source": [
    "# Import timedelta() from the datetime library.\n",
    "from datetime import timedelta\n",
    "\n",
    "# Timedeltas represent time as an amount rather than as a fixed position.\n",
    "offset = timedelta(days=2, seconds=23, microseconds=32,\n",
    "                   milliseconds=99, minutes=42, hours=11, weeks=2)"
   ]
  },
  {
   "cell_type": "markdown",
   "metadata": {},
   "source": [
    "The timedelta() has attributes that allow us to extract values from it.\n",
    "Per the documentation, only days, seconds, microseconds are stored. \n",
    "Mls, mins, hours, weeks are converted to:\n",
    "\n",
    "* A millisecond is converted to 1000 microseconds.\n",
    "* A minute is converted to 60 seconds.\n",
    "* An hour is converted to 3600 seconds.\n",
    "* A week is converted to 7 days.\n",
    "\n",
    "Thus, this works:"
   ]
  },
  {
   "cell_type": "code",
   "execution_count": null,
   "metadata": {},
   "outputs": [],
   "source": [
    "print('offset days', offset.days)\n",
    "print('offset seconds', offset.seconds)\n",
    "print('offset microseconds', offset.microseconds)"
   ]
  },
  {
   "cell_type": "markdown",
   "metadata": {},
   "source": [
    "This does not:"
   ]
  },
  {
   "cell_type": "code",
   "execution_count": null,
   "metadata": {},
   "outputs": [],
   "source": [
    "print('offset hours', offset.hours)\n",
    "# print('offset weeks', offset.weeks)\n",
    "# print('offset milliseconds', offset.milliseconds)"
   ]
  },
  {
   "cell_type": "markdown",
   "metadata": {},
   "source": [
    "Datetime's .now() function will give you the datetime object of this very moment. Like so:"
   ]
  },
  {
   "cell_type": "code",
   "execution_count": null,
   "metadata": {},
   "outputs": [],
   "source": []
  },
  {
   "cell_type": "markdown",
   "metadata": {},
   "source": [
    "The current time is particularly useful when using `timedelta()`:"
   ]
  },
  {
   "cell_type": "code",
   "execution_count": null,
   "metadata": {},
   "outputs": [],
   "source": [
    "# A:\n"
   ]
  },
  {
   "cell_type": "markdown",
   "metadata": {},
   "source": [
    "> _Note: The largest value a `timedelta()` can hold is `days`. For instance, you can't say you want your offset to be two years, 44 days, and 12 hours; you have to convert those years to days._\n",
    "\n",
    "You can read more in the `timedelta()` category [here](https://docs.python.org/3.6/library/datetime.html).\n"
   ]
  },
  {
   "cell_type": "markdown",
   "metadata": {},
   "source": [
    "<img src=\"https://64.media.tumblr.com/f4731e18b4faba6bf86d0ed7fd9a88dd/tumblr_ngoznzXkSw1qlvq41o5_250.gifv\">"
   ]
  },
  {
   "cell_type": "markdown",
   "metadata": {},
   "source": [
    "## Practice: Load the UFO Reports Data\n",
    "---\n",
    "\n",
    "We can practice using datetime functions and objects with the UFO reports data."
   ]
  },
  {
   "cell_type": "code",
   "execution_count": null,
   "metadata": {},
   "outputs": [],
   "source": [
    "# Get the data from the interwebz\n",
    "ufo = pd.read_csv('http://bit.ly/uforeports')"
   ]
  },
  {
   "cell_type": "code",
   "execution_count": null,
   "metadata": {},
   "outputs": [],
   "source": [
    "# Check the data.\n"
   ]
  },
  {
   "cell_type": "markdown",
   "metadata": {},
   "source": [
    "If you've worked with Excel or other spreadsheet software, you know that computers can have a mind of their own when it comes to reading human-input timestamps. We can't take it on faith that data we get are formatted correctly, _especially_ when it comes to dates and times."
   ]
  },
  {
   "cell_type": "code",
   "execution_count": null,
   "metadata": {},
   "outputs": [],
   "source": [
    "# What kind of data does our `Time` column contain?\n"
   ]
  },
  {
   "cell_type": "markdown",
   "metadata": {},
   "source": [
    "It's an 'O' which _might_ be fine because datetime objects are objects in pandas and python. But they're always called out as some form of `datetime`."
   ]
  },
  {
   "cell_type": "code",
   "execution_count": null,
   "metadata": {},
   "outputs": [],
   "source": [
    "# Let's make sure.\n"
   ]
  },
  {
   "cell_type": "markdown",
   "metadata": {},
   "source": [
    "<a id=\"pandas-pddatetime\"></a>\n",
    "## Pandas and Datetime\n",
    "---\n",
    "\n",
    "Using Pandas, we can convert columns of data from string objects into date objects with the `pd.to_datetime()` function.\n",
    "\n",
    "**Optional Check**: Look at the Pandas `to_datetime` function, and answer the following questions:\n",
    "\n",
    "1. What does this function do?\n",
    "2. What does the `format` argument do?\n",
    "3. What does the `errors` argument do?"
   ]
  },
  {
   "cell_type": "code",
   "execution_count": null,
   "metadata": {},
   "outputs": [],
   "source": []
  },
  {
   "cell_type": "code",
   "execution_count": null,
   "metadata": {},
   "outputs": [],
   "source": [
    "# Overwrite the original Time column with one that has been converted to a datetime series.\n",
    "\n",
    "# Check the data.\n"
   ]
  },
  {
   "cell_type": "markdown",
   "metadata": {},
   "source": [
    "<a id=\"the-dt-attribute\"></a>\n",
    "### The `.dt` Attribute\n",
    "\n",
    "Pandas' datetime columns have a `.dt` attribute that allows you to access attributes specific to dates. For example:\n",
    "\n",
    "```python\n",
    "ufo.Time.dt.day\n",
    "ufo.Time.dt.month\n",
    "ufo.Time.dt.year\n",
    "ufo.Time.dt.days_in_month\n",
    "```\n",
    "\n",
    "[And there are many more!](https://pandas.pydata.org/pandas-docs/stable/reference/series.html#api-series-dt)"
   ]
  },
  {
   "cell_type": "code",
   "execution_count": null,
   "metadata": {},
   "outputs": [],
   "source": [
    "# Let's check one out.\n"
   ]
  },
  {
   "cell_type": "markdown",
   "metadata": {},
   "source": [
    "### Inferring `datetime`\n",
    "\n",
    "We can also tell pandas to parse (or try to parse) datetime objects when we're reading in a `.csv`.\n",
    "\n",
    "If we take a look at `pd.read_csv`, a few parameters standout:\n",
    "* parse_dates\n",
    "* infer_datetime_format"
   ]
  },
  {
   "cell_type": "code",
   "execution_count": null,
   "metadata": {},
   "outputs": [],
   "source": [
    "ufo_2 = pd.read_csv('http://bit.ly/uforeports',\n",
    "                    parse_dates=[4],\n",
    "                   infer_datetime_format=True)"
   ]
  },
  {
   "cell_type": "markdown",
   "metadata": {},
   "source": [
    "`Parse_dates` takes three types of values: boolean, lists, and dictionaries.\n",
    "* Boolean (default=False) True will attempt to parse the index as a datetime\n",
    "* List [1,2,3] will attempt to parse the several columns into datetime objects\n",
    "* Nested List [[1,2,3]] will attempt to combine the several columns into one datetime column"
   ]
  },
  {
   "cell_type": "code",
   "execution_count": null,
   "metadata": {},
   "outputs": [],
   "source": [
    "# Check our data again.\n"
   ]
  },
  {
   "cell_type": "code",
   "execution_count": null,
   "metadata": {},
   "outputs": [],
   "source": [
    "# Confirm that the datetime format is correct.\n"
   ]
  },
  {
   "cell_type": "markdown",
   "metadata": {},
   "source": [
    "## Timestamps\n",
    "---\n",
    "\n",
    "Timestamps are useful objects for comparisons. You can create a timestamp object with the `pd.to_datetime()` function and a string specifying the date. These objects are especially helpful when you need to perform logical filtering with dates."
   ]
  },
  {
   "cell_type": "code",
   "execution_count": null,
   "metadata": {},
   "outputs": [],
   "source": [
    "# For example:\n",
    "\n",
    "# Use that timestamp for a comparison.\n"
   ]
  },
  {
   "cell_type": "markdown",
   "metadata": {},
   "source": [
    "That is all by way of a _very_ brief introduction to everything that can be done using datetime objects in python and pandas, and how we can use them to manipulate our data. Let's move on to forecasting."
   ]
  },
  {
   "cell_type": "markdown",
   "metadata": {},
   "source": [
    "## Forecasting\n",
    "\n",
    "Our main focus during time series week is not to conduct inference, but to generate forecasts for future values of one or more variables."
   ]
  },
  {
   "cell_type": "markdown",
   "metadata": {},
   "source": [
    "<details><summary>What do you think forecasting is?</summary>\n",
    "\n",
    "- Forecasting is predicting the future as accurately as possible.\n",
    "</details>"
   ]
  },
  {
   "cell_type": "markdown",
   "metadata": {},
   "source": [
    "**We should first determine whether or not we want to forecast.**\n",
    "- Our model's performance will depend on many things:\n",
    "    - How much data is available.\n",
    "    - How well we understand factors that contribute to the thing we want to predict. (a.k.a. how predictable is the thing we want to predict!)\n",
    "    - Whether forecasts can affect what we want to forecast.\n",
    "\n",
    "### Notation\n",
    "\n",
    "Imagine a dataset that looks like this:\n",
    "\n",
    "|  **time**  | $Y_t$ | $Y_{t-1}$ | $Y_{t-2}$ | $Y_{t-3}$ | $X_{t}$ |\n",
    "|-------|-------|-----------|-----------|-----------|---------|\n",
    "| **1** | $y_1$ | NaN       | NaN       | NaN       | $x_1$   |\n",
    "| **2** | $y_2$ | $y_1$     | NaN       | NaN       | $x_2$   |\n",
    "| **3** | $y_3$ | $y_2$     | $y_1$     | NaN       | $x_3$   |\n",
    "| **4** | $y_4$ | $y_3$     | $y_2$     | $y_1$     | $x_4$   |\n",
    "\n",
    "We'll fit models that can help us forecast time series.\n",
    "- **The thing we want to predict is** $Y_t$.\n",
    "- We may use $X_t$ to predict $Y_t$.\n",
    "- We may use $Y_{t-1}$, the value of $Y$ at time $t-1$, to predict $Y_t$."
   ]
  },
  {
   "cell_type": "code",
   "execution_count": null,
   "metadata": {},
   "outputs": [],
   "source": [
    "# Instantiate dataframe with index.\n",
    "df =\n",
    "\n",
    "# Set seed.\n",
    "np.random.seed(42)\n",
    "\n",
    "# Generate data.\n",
    "data = [52.4]\n",
    "for i in range(1,df.shape[0]):\n",
    "    data.append(data[i-1] + np.random.normal())\n",
    "    \n",
    "# Put data in DataFrame.\n",
    "df['co2'] = data"
   ]
  },
  {
   "cell_type": "markdown",
   "metadata": {},
   "source": [
    "## Describing the Behavior of a Time Series through Plots\n",
    "\n",
    "When attempting to forecast time series data, it is critical for us to describe the behavior of the data. (*This is going to tell us how to model our data!*)\n",
    "\n",
    "We generally plot the data, then identify whether or not a few things are exhibited: trends, seasonality, and autocorrelation.\n",
    "\n",
    "The most common type of plot is called a **time plot**.\n",
    "\n",
    "<img src=\"./images/airlines.png\" alt=\"drawing\" width=\"500\"/>\n",
    "\n",
    "- A time plot is a line plot with time on the horizontal axis and the value of our series on the vertical axis.\n",
    "\n",
    "To make things easier, we're going to write a function that will generate plots for us."
   ]
  },
  {
   "cell_type": "code",
   "execution_count": null,
   "metadata": {},
   "outputs": [],
   "source": [
    "# Write function called plot_series that takes in \n",
    "# a dataframe, a list of column names to plot, the \n",
    "# plot title and the axis labels as arguments,\n",
    "# then displays the line plot with a figure size\n",
    "# of 18 horizontal inches by 9 vertical inches.\n",
    "\n",
    "# Matthew Garton - BOS\n",
    "\n",
    "def plot_series(df, cols=None, title='Title', xlab=None, ylab=None):\n",
    "    \n",
    "    # Set figure size to be (18, 9).\n",
    "    plt.figure(figsize=(18,9))\n",
    "    \n",
    "    # Iterate through each column name.\n",
    "    for col in cols:\n",
    "        \n",
    "        # Generate a line plot of the column name.\n",
    "        # You only have to specify Y, since our\n",
    "        # index will be a datetime index.\n",
    "        plt.plot(df[col])\n",
    "        \n",
    "    # Generate title and labels.\n",
    "    plt.title(title, fontsize=26)\n",
    "    plt.xlabel(xlab, fontsize=20)\n",
    "    plt.ylabel(ylab, fontsize=20)\n",
    "    \n",
    "    # Enlarge tick marks.\n",
    "    plt.xticks(fontsize=18)\n",
    "    plt.yticks(fontsize=18);"
   ]
  },
  {
   "cell_type": "code",
   "execution_count": null,
   "metadata": {},
   "outputs": [],
   "source": [
    "plot_series()"
   ]
  },
  {
   "cell_type": "markdown",
   "metadata": {},
   "source": [
    "<details><summary>How would you describe this plot?</summary>\n",
    "    \n",
    "_(Answers will vary.)_\n",
    "\n",
    "- Across the full range of time, the value of $Y$ increases.\n",
    "- There is a sharp jump upward around July 2019.\n",
    "- $Y$ increases and decreases over time, but in irregular patterns.\n",
    "- The values of $Y_t$ and $Y_{t-1}$ are highly correlated with one another.\n",
    "</details>"
   ]
  },
  {
   "cell_type": "markdown",
   "metadata": {},
   "source": [
    "### Trends\n",
    "\n",
    "In time series data, a **trend** is the long-term increase or decrease in the data.\n",
    "\n",
    "The two most common types of trends will be **linear (straight line) trends** and **exponential trends**.\n",
    "\n",
    "<img src=\"./images/column_1_small.png\" alt=\"drawing\" width=\"550\"/>"
   ]
  },
  {
   "cell_type": "markdown",
   "metadata": {},
   "source": [
    "<details><summary>Is there a trend in the carbon dioxide output? If so, is it increasing or decreasing? Do you think it's a straight line trend or an exponential trend?</summary>\n",
    "\n",
    "- Yes, there is a trend in the graph. There appears to be a long-term increase over time.\n",
    "- The trend could be either linear or exponential!\n",
    "</details>"
   ]
  },
  {
   "cell_type": "markdown",
   "metadata": {},
   "source": [
    "We'll decide how to model the above shortly.\n",
    "\n",
    "### Seasonality\n",
    "\n",
    "In time series data, **seasonality** describes when a time series is affected by factors that take on a **fixed and known frequency**.\n",
    "\n",
    "Seasonality does not have to explicitly refer to seasons of the year (and from an inclusivity standpoint, different regions of the world have different seasons), but seasonality almost always **will** be tied to some meaning on the calendar!"
   ]
  },
  {
   "cell_type": "markdown",
   "metadata": {},
   "source": [
    "<details><summary>Can you think of examples of time series data that exhibit seasonality?</summary>\n",
    "    \n",
    "- Sales data for many products likely exhibits seasonality. Purchases of heavier coats will probably peak in colder times of the year, which will occur roughly every twelve months.\n",
    "- Restaurant sales likely exhibits seasonality with a peak every week (usually Friday or Saturday).\n",
    "- Temperature itself would exhibit seasonality! We expect temperature to fluctuate up and down in a relatively consistent pattern every twelve months or so.\n",
    "    - Note that temperature also has an increasing trend... so trends and seasonality can occur together!\n",
    "</details>"
   ]
  },
  {
   "cell_type": "markdown",
   "metadata": {},
   "source": [
    "<img src=\"./images/column_1_small.png\" alt=\"drawing\" width=\"550\"/>"
   ]
  },
  {
   "cell_type": "markdown",
   "metadata": {},
   "source": [
    "<details><summary>Is there seasonality in the carbon dioxide output? If so, about how frequently?</summary>\n",
    "\n",
    "- No, there does not appear to be seasonality.\n",
    "- While $Y$ does fluctuate up and down, it does not appear to fluctuate with some fixed and known frequency.\n",
    "</details>"
   ]
  },
  {
   "cell_type": "markdown",
   "metadata": {},
   "source": [
    "One tool that _can_ be helpful is the `seasonal_decompose` tool from `statsmodels`. However, we have to be careful!"
   ]
  },
  {
   "cell_type": "code",
   "execution_count": null,
   "metadata": {},
   "outputs": [],
   "source": [
    "from statsmodels.tsa.seasonal import seasonal_decompose"
   ]
  },
  {
   "cell_type": "code",
   "execution_count": null,
   "metadata": {},
   "outputs": [],
   "source": [
    "# Decompose time series into trend, seasonal, and residual components.\n",
    "decomp =\n",
    "\n",
    "# Plot the decomposed time series.\n",
    ";"
   ]
  },
  {
   "cell_type": "markdown",
   "metadata": {},
   "source": [
    "By default, the decomposition will assume there is a linear trend. If you believe there is an exponential trend, you should change the argument `model` to be `multiplicative`, but this will fail with values that are less than or equal to 0.\n",
    "\n",
    "The plot will **always** pull out a seasonal component... even if there isn't a seasonal component in our data! In short, this is sometimes a helpful tool, but it's not a substitute for plotting your data with a time plot and examining it first."
   ]
  },
  {
   "cell_type": "markdown",
   "metadata": {},
   "source": [
    "### Autocorrelation\n",
    "\n",
    "In time series data, autocorrelation refers to the **correlation of one variable with lagged versions of itself**. (You may also hear the term **serial correlation**.)\n",
    "\n",
    "You might imagine a dataset that looks like this:\n",
    "\n",
    "|  **time**  | $Y_t$ | $Y_{t-1}$ | $Y_{t-2}$ | $Y_{t-3}$ | $X_{t}$ |\n",
    "|-------|-------|-----------|-----------|-----------|---------|\n",
    "| **1** | $y_1$ | NaN       | NaN       | NaN       | $x_1$   |\n",
    "| **2** | $y_2$ | $y_1$     | NaN       | NaN       | $x_2$   |\n",
    "| **3** | $y_3$ | $y_2$     | $y_1$     | NaN       | $x_3$   |\n",
    "| **4** | $y_4$ | $y_3$     | $y_2$     | $y_1$     | $x_4$   |"
   ]
  },
  {
   "cell_type": "code",
   "execution_count": null,
   "metadata": {},
   "outputs": [],
   "source": [
    "# Generate a dataframe with our CO2 data that\n",
    "# looks like the above dataframe.\n",
    "\n",
    "df['co2_lag_1'] =\n",
    "df['co2_lag_2'] =\n",
    "df['co2_lag_3'] ="
   ]
  },
  {
   "cell_type": "code",
   "execution_count": null,
   "metadata": {},
   "outputs": [],
   "source": [
    "df.head()"
   ]
  },
  {
   "cell_type": "markdown",
   "metadata": {},
   "source": [
    "We can calculate the correlation between $Y_t$ and $Y_{t-1}$, which tells us how highly correlated values of $Y$ are with the immediately previous value of $Y$."
   ]
  },
  {
   "cell_type": "markdown",
   "metadata": {},
   "source": [
    "<details><summary>BONUS: If you want to see the formula for autocorrelation, check here.</summary>\n",
    "    \n",
    "$$\n",
    "\\begin{eqnarray*}\n",
    "Corr(Y_t, Y_{t-k}) = \\frac{Cov(Y_t,Y_{t-k})}{Var(Y_t)Var(Y_{t-k})}\n",
    "\\end{eqnarray*}\n",
    "$$\n",
    "</details> "
   ]
  },
  {
   "cell_type": "code",
   "execution_count": null,
   "metadata": {},
   "outputs": [],
   "source": [
    "# Calculate the correlations among these columns.\n"
   ]
  },
  {
   "cell_type": "markdown",
   "metadata": {},
   "source": [
    "<details><summary>Why do you think it's useful to look at the correlation between our $Y$ variable and lagged versions of itself?</summary>\n",
    "    \n",
    "- It can inform us which lagged values of $Y$ to put into our model!\n",
    "</details>"
   ]
  },
  {
   "cell_type": "markdown",
   "metadata": {},
   "source": [
    "We can also calculate the correlation between $Y_t$ and $Y_{t-2}$, $Y_t$ and $Y_{t-3}$, and so on. But this can be tedious to do by hand, so we generally use a function to generate an **autocorrelation plot** that visualizes this all at once!"
   ]
  },
  {
   "cell_type": "code",
   "execution_count": null,
   "metadata": {},
   "outputs": [],
   "source": [
    "# Import the autocorrelation function (ACF) plot.\n",
    "from statsmodels.graphics.tsaplots import plot_acf"
   ]
  },
  {
   "cell_type": "code",
   "execution_count": null,
   "metadata": {},
   "outputs": [],
   "source": [
    "# Generate the ACF plot on co2 data\n",
    "# up to 20 time periods.\n",
    ";"
   ]
  },
  {
   "cell_type": "markdown",
   "metadata": {},
   "source": [
    "### Reading an Autocorrelation Plot\n",
    "\n",
    "The **horizontal axis** tells us which lag of $Y_t$ we are comparing to the main time series $Y_t$.\n",
    "\n",
    "The **vertical axis** tells us the value of the autocorrelation between $Y_t$ and the lagged version, $Y_{t-lag}$.\n",
    "\n",
    "- The left-most value, $lag = 0$ of the autocorrelation plot is $Corr(Y_t, Y_t)$. \n",
    "    - This should always be 1!\n",
    "- The next value, $lag = 1$ of the autocorrelation plot is $Corr(Y_t, Y_{t-1})$.\n",
    "- The next value of the autocorrelation plot visualizes $Corr(Y_t, Y_{t-2})$.\n",
    "\n",
    "The **blue oval** is our confidence interval. If an element is _outside_ the blue area, it is statistically significant.\n",
    "\n",
    "\n",
    "\n",
    "\n",
    "#### Interpretation\n",
    "\n",
    "The autocorrelation plot is an important tool for a few reasons:\n",
    "- **We can use it to detect trends**: When the autocorrelation plot has large and positive values for small lags (e.g. lags 1, 2, 3), this is evidence that a trend exists.\n",
    "- **We can use it to detect seasonality**: Recall that seasonality means we have fluctuations in our $Y$ variable that occur with a fixed and known frequency. When the autocorrelation plot has larger values for the seasonal lags than other lags, this is evidence that seasonality exists. (Visually, this might look like a scalloped shape.)\n",
    "- **We can use this plot to inform our modeling choices**, along with a related plot - the partial autocorrelation function plot.\n",
    "\n",
    "### Partial Autocorrelation\n",
    "\n",
    "Based on the autocorrelation plot above, we might try to fit a model that looks like this:\n",
    "\n",
    "$$\n",
    "\\begin{eqnarray*}\n",
    "Y_t &=& \\beta_0 + \\beta_1Y_{t-1} + \\beta_2Y_{t-2} + \\cdots + \\beta_{20}Y_{t-20} \\\\\n",
    "&=& \\beta_0 + \\sum_{k=1}^{20}\\beta_kY_{t-k}\n",
    "\\end{eqnarray*}\n",
    "$$\n",
    "\n"
   ]
  },
  {
   "cell_type": "markdown",
   "metadata": {},
   "source": [
    "<details><summary>However, this can run into many problems!</summary>\n",
    "\n",
    "- The more variables we have, the likelier we are to overfit our model to the data.\n",
    "- $Y_{t-1}$ and $Y_{t-2}$ and $Y_{t-3}$ are all highly correlated with one another, so the inputs to our model in this case aren't independent of one another.\n",
    "- When we use a variable like $Y_{t-20}$, we effectively decrease our sample size by 20. (If our data are measured year over year, discarding 20 years of data is **a lot of data** to exclude from our model.)\n",
    "</details>"
   ]
  },
  {
   "cell_type": "markdown",
   "metadata": {},
   "source": [
    "To avoid this problem, we use the **partial autocorrelation function**.\n",
    "- The partial autocorrelation is like the autocorrelation in that it checks for the correlation between $Y_t$ and lagged versions of itself.\n",
    "- However, the partial autocorrelation **controls for all lower-lag autocorrelations**.\n",
    "    - That is, the partial autocorrelation between $Y_t$ and $Y_{t-2}$ is the correlation between $Y_t$ and $Y_{t-2}$  that has already taken into account the autocorrelation between $Y_t$ and $Y_{t-1}$.\n",
    "    \n",
    "    \n",
    "<details><summary>BONUS: If you want to see the formula for partial autocorrelation, check here.</summary>\n",
    "    \n",
    "$$\n",
    "\\begin{eqnarray*}\n",
    "PartialCorr(Y_t, Y_{t-k}) = \\frac{Cov(Y_t,Y_{t-k}|Y_{t-1},Y_{t-2},\\ldots,Y_{t-(k-1)})}{Var(Y_t|Y_{t-1},Y_{t-2},\\ldots,Y_{t-(k-1)})Var(Y_{t-k}|Y_{t-1},Y_{t-2},\\ldots,Y_{t-(k-1)})}\n",
    "\\end{eqnarray*}\n",
    "$$\n",
    "</details>     "
   ]
  },
  {
   "cell_type": "code",
   "execution_count": null,
   "metadata": {},
   "outputs": [],
   "source": [
    "# Import the partial autocorrelation function (PACF) plot.\n",
    "from statsmodels.graphics.tsaplots import plot_pacf"
   ]
  },
  {
   "cell_type": "code",
   "execution_count": null,
   "metadata": {},
   "outputs": [],
   "source": [
    "# Generate the PACF plot on CO2 data\n",
    "# up to 20 time periods.\n",
    ";"
   ]
  },
  {
   "cell_type": "markdown",
   "metadata": {},
   "source": [
    "### Reading a Partial Autocorrelation Plot\n",
    "\n",
    "The **horizontal axis** still tells us which lag of $Y_t$ we are comparing to the main time series $Y_t$.\n",
    "\n",
    "The **vertical axis** tells us the value of the **partial autocorrelation** between $Y_t$ and the lagged version, $Y_{t-lag}$.\n",
    "\n",
    "The blue band represents a 95% confidence interval. If the value of the partial autocorrelation goes outside the blue band, that means that correlation is statistically significant.\n",
    "\n",
    "#### Interpretation\n",
    "\n",
    "The partial autocorrelation plot is an important tool for a few reasons:\n",
    "- **We can use it to detect seasonality**: Recall that seasonality means we have fluctuations in our $Y$ variable that occur with a fixed and known frequency. When the partial autocorrelation plot has significant values for the seasonal lags, this is evidence that seasonality exists.\n",
    "- **We can use this plot to inform our modeling choices**: Here, we see that by using $Y_{t-1}$ as a predictor for $Y_t$, we probably won't get much important information if we were to also include $Y_{t-2}$ (or higher order lags) as a predictor."
   ]
  },
  {
   "cell_type": "markdown",
   "metadata": {},
   "source": [
    "## Recap\n",
    "\n",
    "When you look at a new time series, you should:\n",
    "- generate a time plot.\n",
    "- generate the autocorrelation plot.\n",
    "- generate the partial autocorrelation plot.\n",
    "\n",
    "Use these plots to determine:\n",
    "- is there a trend?\n",
    "- is there seasonality?\n",
    "\n",
    "Once we answer these questions, we can begin to model.\n",
    "\n",
    "## Practice\n",
    "\n",
    "On your own, take some time to read in the following data and answer the following questions.\n",
    "1. Based on the time plot, is there evidence of a trend? If so, describe the trend. How can you tell?\n",
    "2. Based on the time plot, is there evidence of seasonality? If so, estimate the frequency of the seasonality. How can you tell?\n",
    "3. Based on the ACF plot, is there evidence of a trend? If so, describe the trend. How can you tell?\n",
    "4. Based on the ACF and PACF plots, is there evidence of seasonality? If so, estimate the frequency of the seasonality. How can you tell?"
   ]
  },
  {
   "cell_type": "code",
   "execution_count": null,
   "metadata": {},
   "outputs": [],
   "source": [
    "# Read in airline data.\n",
    "air = pd.read_csv('./data/airline-passengers.csv', parse_dates=['Month'])\n",
    "\n",
    "# Set the index to be month over month.\n"
   ]
  },
  {
   "cell_type": "code",
   "execution_count": null,
   "metadata": {},
   "outputs": [],
   "source": [
    "air.head()"
   ]
  },
  {
   "cell_type": "code",
   "execution_count": null,
   "metadata": {},
   "outputs": [],
   "source": [
    "# Generate a time plot of the airline passengers data.\n"
   ]
  },
  {
   "cell_type": "code",
   "execution_count": null,
   "metadata": {},
   "outputs": [],
   "source": [
    "# Generate a decomposition plot of the airline passengers data.\n"
   ]
  },
  {
   "cell_type": "code",
   "execution_count": null,
   "metadata": {},
   "outputs": [],
   "source": [
    "# Generate an ACF plot of the airline passengers data with 30 time periods.\n"
   ]
  },
  {
   "cell_type": "code",
   "execution_count": null,
   "metadata": {},
   "outputs": [],
   "source": [
    "# Generate an PACF plot of the airline passengers data with 30 time periods.\n"
   ]
  },
  {
   "cell_type": "markdown",
   "metadata": {},
   "source": [
    "<details><summary>1. Based on the time plot, is there evidence of a trend? If so, describe the trend. How can you tell?</summary>\n",
    "    \n",
    "- There is a trend. It seems to be increasing and pretty linear.\n",
    "</details>"
   ]
  },
  {
   "cell_type": "markdown",
   "metadata": {},
   "source": [
    "<details><summary>2. Based on the time plot, is there evidence of seasonality? If so, estimate the frequency of the seasonality. How can you tell?</summary>\n",
    "    \n",
    "- There is evidence of seasonality. There appear to be peaks in the data about every twelve months. This makes sense, because the number of people flying on planes in a given month may peak when there's more travel (e.g. summer) and it might die down in other months.\n",
    "- This evidence is strongest in the later years, where from 1954-1961 there's obviously one peak every year. (Note that there are two peaks between 1956 and 1958, two peaks between 1958 and 1960, etc.)\n",
    "</details>"
   ]
  },
  {
   "cell_type": "markdown",
   "metadata": {},
   "source": [
    "<details><summary>3. Based on the ACF plot, is there evidence of a trend? If so, describe the trend. How can you tell?</summary>\n",
    "\n",
    "- Yes, there is a trend. In the ACF plot, the small lag values have large, positive autocorrelations.\n",
    "</details>"
   ]
  },
  {
   "cell_type": "markdown",
   "metadata": {},
   "source": [
    "<details><summary>4. Based on the ACF and PACF plots, is there evidence of seasonality? If so, estimate the frequency of the seasonality. How can you tell?</summary>\n",
    "    \n",
    "- Yes, there is seasonality. In the ACF plot, there is a \"scalloped\" shape, where we see ACF values peak roughly every 12 months.\n",
    "- In the PACF plot, we see significant values every 12 months or so. We also see some positive and some negative significant partial autocorrelations, which usually indicates strong seasonal fluctuations.\n",
    "</details>"
   ]
  },
  {
   "cell_type": "markdown",
   "metadata": {},
   "source": [
    "<details><summary>Based on the above plots, we might conclude:</summary>\n",
    "\n",
    "- The last two values are highly informative in predicting future values.\n",
    "- There is a linear trend in our data.\n",
    "- There is seasonality that occurs roughly every twelve months.\n",
    "\n",
    "Let's fit the following model:\n",
    "$$\n",
    "\\begin{eqnarray*}\n",
    "Y_t &=& \\beta_0 + \\beta_1Y_{t-1} + \\beta_2Y_{t-2} + \\beta_3Y_{t-12} + \\beta_4t\n",
    "\\end{eqnarray*}\n",
    "$$\n",
    "</details>"
   ]
  },
  {
   "cell_type": "code",
   "execution_count": null,
   "metadata": {},
   "outputs": [],
   "source": [
    "air.head()"
   ]
  },
  {
   "cell_type": "code",
   "execution_count": null,
   "metadata": {},
   "outputs": [],
   "source": [
    "# Create a column called `lag_1` that lags Passengers by one month.\n",
    "air['lag_1'] =\n",
    "\n",
    "# Create a column called `lag_2` that lags Passengers by two months.\n",
    "air['lag_2'] =\n",
    "\n",
    "# Create a column called `seasonal_12` that lags Passengers by one year.\n",
    "air['seasonal_12'] =\n",
    "\n",
    "# Create a variable called `time` that takes on a value of 0 in January 1949,\n",
    "# then increases by 1 each month until the end of the dataframe.\n",
    "air['time'] ="
   ]
  },
  {
   "cell_type": "code",
   "execution_count": null,
   "metadata": {},
   "outputs": [],
   "source": [
    "# Confirm the top of our dataframe looks good.\n",
    "air.head()"
   ]
  },
  {
   "cell_type": "code",
   "execution_count": null,
   "metadata": {},
   "outputs": [],
   "source": [
    "# Confirm the bottom of our dataframe looks good.\n"
   ]
  },
  {
   "cell_type": "markdown",
   "metadata": {},
   "source": [
    "## Train-Test Split\n",
    "\n",
    "Before building a model, we should split our data up into a training and testing set.\n",
    "\n",
    "Since our goal with time series models is almost always to forecast values forward in time, the idea with a time series train/test split is to train on earlier data and test/evaluate on later data.\n",
    "\n",
    "Most commonly, we'll set our:\n",
    "- training set to be the \"first\" 67% - 80% of our data timewise.\n",
    "- test set be the \"last\" 20% - 33% timewise.\n",
    "\n",
    "Let's split our dataframe by taking the first 80% of rows for training and the rest for testing."
   ]
  },
  {
   "cell_type": "code",
   "execution_count": null,
   "metadata": {},
   "outputs": [],
   "source": [
    "# Generate train/test split.\n",
    "X_train, X_test, y_train, y_test = train_test_split(air.drop(columns = 'Passengers'),\n",
    "                                                    air['Passengers'],\n",
    "                                                    test_size = 0.2)"
   ]
  },
  {
   "cell_type": "code",
   "execution_count": null,
   "metadata": {},
   "outputs": [],
   "source": [
    "# Check shape to confirm we did this properly.\n",
    "print(X_train.shape)\n",
    "print(X_test.shape)\n",
    "print(y_train.shape)\n",
    "print(y_test.shape)"
   ]
  },
  {
   "cell_type": "markdown",
   "metadata": {},
   "source": [
    "## Fit a linear model."
   ]
  },
  {
   "cell_type": "code",
   "execution_count": null,
   "metadata": {},
   "outputs": [],
   "source": [
    "# Import statsmodels.\n",
    "import statsmodels.api as sm"
   ]
  },
  {
   "cell_type": "code",
   "execution_count": null,
   "metadata": {},
   "outputs": [],
   "source": [
    "# Before fitting a model in statsmodels, what do we need\n",
    "# to do? (Hint: Think intercept.)\n",
    "\n",
    "\n",
    "\n",
    "\n",
    "# Confirm.\n"
   ]
  },
  {
   "cell_type": "code",
   "execution_count": null,
   "metadata": {},
   "outputs": [],
   "source": [
    "# statsmodels won't be able to handle missing values.\n",
    "\n",
    "\n",
    "\n",
    "\n",
    "# This way we subset y_train to keep only indices from X_train."
   ]
  },
  {
   "cell_type": "code",
   "execution_count": null,
   "metadata": {},
   "outputs": [],
   "source": [
    "# Remember that, in statsmodels, we pass our data \n",
    "# in when we instantiate the model!\n",
    "\n",
    "lm ="
   ]
  },
  {
   "cell_type": "code",
   "execution_count": null,
   "metadata": {},
   "outputs": [],
   "source": [
    "# Then we fit our model.\n",
    "lm_results ="
   ]
  },
  {
   "cell_type": "code",
   "execution_count": null,
   "metadata": {},
   "outputs": [],
   "source": [
    "# Display our summary!\n",
    "print(lm_results.summary())"
   ]
  },
  {
   "cell_type": "code",
   "execution_count": null,
   "metadata": {},
   "outputs": [],
   "source": [
    "# Generate predicted test values.\n"
   ]
  },
  {
   "cell_type": "code",
   "execution_count": null,
   "metadata": {},
   "outputs": [],
   "source": [
    "# Import R2 score and MSE.\n",
    "from sklearn.metrics import r2_score, mean_squared_error"
   ]
  },
  {
   "cell_type": "code",
   "execution_count": null,
   "metadata": {},
   "outputs": [],
   "source": [
    "# Calculate R2 score.\n",
    "r2_score()"
   ]
  },
  {
   "cell_type": "code",
   "execution_count": null,
   "metadata": {},
   "outputs": [],
   "source": [
    "# Calculate RMSE.\n",
    "mean_squared_error() ** 0.5"
   ]
  },
  {
   "cell_type": "code",
   "execution_count": null,
   "metadata": {},
   "outputs": [],
   "source": [
    "# Let's plot our predictions! \n",
    "\n",
    "# Set figure size.\n",
    "plt.figure(figsize=(20,10))\n",
    "\n",
    "# Plot training data.\n",
    "plt.plot(y_train.index, y_train.values, color = 'blue')\n",
    "\n",
    "# Plot testing data.\n",
    "plt.plot(y_test.index, y_test.values, color = 'orange')\n",
    "\n",
    "# Plot predicted test values.\n",
    "plt.plot(lm_results.predict(X_test), color = 'green')\n",
    "\n",
    "# Set label.\n",
    "plt.title(label = 'Forecasting Airline Passengers 1958-1961', fontsize=24)\n",
    "\n",
    "# Resize tick marks.\n",
    "plt.xticks(fontsize=20)\n",
    "plt.yticks(fontsize=20);"
   ]
  },
  {
   "cell_type": "markdown",
   "metadata": {},
   "source": [
    "### Learning Objectives \n",
    "_By the end of the lesson, students should be able to:_\n",
    "- Define forecasting.\n",
    "- Define and identify trend and seasonality in time series data.\n",
    "- Define and calculate autocorrelation manually.\n",
    "- Generate and interpret a seasonal decomposition plot.\n",
    "- Generate and interpret an autocorrelation plot.\n",
    "- Generate and interpret a partial autocorrelation plot.\n",
    "- Properly fit, generate predictions from, and evaluate a linear time series model."
   ]
  }
 ],
 "metadata": {
  "kernelspec": {
   "display_name": "Python 3",
   "language": "python",
   "name": "python3"
  },
  "language_info": {
   "codemirror_mode": {
    "name": "ipython",
    "version": 3
   },
   "file_extension": ".py",
   "mimetype": "text/x-python",
   "name": "python",
   "nbconvert_exporter": "python",
   "pygments_lexer": "ipython3",
   "version": "3.8.8"
  }
 },
 "nbformat": 4,
 "nbformat_minor": 2
}
